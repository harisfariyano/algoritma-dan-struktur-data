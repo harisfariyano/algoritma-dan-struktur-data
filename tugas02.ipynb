{
  "nbformat": 4,
  "nbformat_minor": 0,
  "metadata": {
    "colab": {
      "name": "tugas02.ipynb",
      "provenance": []
    },
    "kernelspec": {
      "name": "python3",
      "display_name": "Python 3"
    }
  },
  "cells": [
    {
      "cell_type": "code",
      "metadata": {
        "id": "I7pS2_ZnwPfh"
      },
      "source": [
        "print('aku suka programing')\n",
        "print('aku suka programing')\n",
        "print('aku suka programing')\n",
        "print('aku suka programing')\n",
        "print('aku suka programing')"
      ],
      "execution_count": null,
      "outputs": []
    },
    {
      "cell_type": "code",
      "metadata": {
        "id": "aEcAJ1OPzJuB",
        "outputId": "927f3132-c7f0-4cbc-b5f4-fea8a951d4fd",
        "colab": {
          "base_uri": "https://localhost:8080/",
          "height": 102
        }
      },
      "source": [
        "print('==========Muhammad Haris Fariyano==========')\n",
        "p=5\n",
        "l=7\n",
        "t=10\n",
        "v=p*l*t\n",
        "print('pnjang=',p)\n",
        "print('lebar=',l)\n",
        "print('tinggi=',t)\n",
        "print('sehingga volume balok=',v)"
      ],
      "execution_count": 4,
      "outputs": [
        {
          "output_type": "stream",
          "text": [
            "==========Muhammad Haris Fariyano==========\n",
            "pnjang= 5\n",
            "lebar= 7\n",
            "tinggi= 10\n",
            "sehingga volume balok= 350\n"
          ],
          "name": "stdout"
        }
      ]
    },
    {
      "cell_type": "code",
      "metadata": {
        "id": "Ucl3rDTd011s",
        "outputId": "ebe8bfb5-c31a-4f8e-945a-7e752ec2370b",
        "colab": {
          "base_uri": "https://localhost:8080/",
          "height": 51
        }
      },
      "source": [
        "print('===Menghitung luas lingkaran===')\n",
        "phi=22/7\n",
        "r=14\n",
        "l=phi*r*r\n",
        "print(l)"
      ],
      "execution_count": 6,
      "outputs": [
        {
          "output_type": "stream",
          "text": [
            "===Menghitung luas lingkaran===\n",
            "616.0\n"
          ],
          "name": "stdout"
        }
      ]
    },
    {
      "cell_type": "code",
      "metadata": {
        "id": "ruIdI3bR14SO",
        "outputId": "b4bf857e-d3e7-4e63-b003-3b8430b879f9",
        "colab": {
          "base_uri": "https://localhost:8080/",
          "height": 34
        }
      },
      "source": [
        "IPK=3,95\n",
        "print('saya muhammad haris fariyano,IPK saya saat ini',IPK)"
      ],
      "execution_count": 7,
      "outputs": [
        {
          "output_type": "stream",
          "text": [
            "saya muhammad haris fariyano,IPK saya saat ini (3, 95)\n"
          ],
          "name": "stdout"
        }
      ]
    }
  ]
}