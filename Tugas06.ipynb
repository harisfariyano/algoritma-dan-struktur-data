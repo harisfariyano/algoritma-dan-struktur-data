{
  "nbformat": 4,
  "nbformat_minor": 0,
  "metadata": {
    "colab": {
      "name": "Tugas06.py",
      "provenance": [],
      "collapsed_sections": [],
      "include_colab_link": true
    },
    "kernelspec": {
      "display_name": "Python 3",
      "name": "python3"
    }
  },
  "cells": [
    {
      "cell_type": "markdown",
      "metadata": {
        "id": "view-in-github",
        "colab_type": "text"
      },
      "source": [
        "<a href=\"https://colab.research.google.com/github/harisfariyano/algoritma-dan-struktur-data/blob/main/Tugas06.ipynb\" target=\"_parent\"><img src=\"https://colab.research.google.com/assets/colab-badge.svg\" alt=\"Open In Colab\"/></a>"
      ]
    },
    {
      "cell_type": "code",
      "metadata": {
        "id": "MOqf-G6MwoPt",
        "outputId": "252ca2d1-4b06-4d32-cc08-1ef9c5bd8f80",
        "colab": {
          "base_uri": "https://localhost:8080/",
          "height": 51
        }
      },
      "source": [
        "Nilai = int(input('NILAI:'))\n",
        "if Nilai <= 70:\n",
        "   print('Remidi')"
      ],
      "execution_count": null,
      "outputs": [
        {
          "output_type": "stream",
          "text": [
            "NILAI:30\n",
            "Remidi\n"
          ],
          "name": "stdout"
        }
      ]
    },
    {
      "cell_type": "code",
      "metadata": {
        "id": "ILNkAkwfxj_I",
        "outputId": "bbdf8865-27a6-427e-90ce-d50f0be9a662",
        "colab": {
          "base_uri": "https://localhost:8080/",
          "height": 68
        }
      },
      "source": [
        "phi=3.14\n",
        "A = int(input('masukan jari jari:'))\n",
        "L = (phi*A*A)\n",
        "print('jadi luas lingkaran',L)\n",
        "if L > 314:\n",
        "   print('Lingkaran ini kecil')\n",
        "else :\n",
        "   print('Lingkaran ini besar') \n"
      ],
      "execution_count": null,
      "outputs": [
        {
          "output_type": "stream",
          "text": [
            "masukan jari jari:6\n",
            "jadi luas lingkaran 113.03999999999999\n",
            "Lingkaran ini besar\n"
          ],
          "name": "stdout"
        }
      ]
    },
    {
      "cell_type": "code",
      "metadata": {
        "id": "0FtOW2H86b2e",
        "outputId": "18958556-e478-4437-9ac9-fd0bf4d08691",
        "colab": {
          "base_uri": "https://localhost:8080/",
          "height": 51
        }
      },
      "source": [
        "program=int(input('Masukan program yang dipiih:'))\n",
        "def A() :\n",
        "        P=int(input('Panjang:'))\n",
        "        L=int(input('Lebar:'))\n",
        "        T=int(input('Tinggi:'))\n",
        "        VB=(P*L*T)\n",
        "        return VB\n",
        "def B() :\n",
        "  s=int(input('sisi:'))\n",
        "  VK=(s*s*s)\n",
        "  return VK\n",
        "\n",
        "if program == 1:\n",
        "   print('Jadi volume balok :',A())\n",
        "elif program == 2:\n",
        "   print('Jadi volume balok',B())\n",
        "else:\n",
        "   print('program tidak tersedia')\n",
        "\n",
        "\n"
      ],
      "execution_count": null,
      "outputs": [
        {
          "output_type": "stream",
          "text": [
            "Masukan program yang dipiih:7\n",
            "program tidak tersedia\n"
          ],
          "name": "stdout"
        }
      ]
    }
  ]
}