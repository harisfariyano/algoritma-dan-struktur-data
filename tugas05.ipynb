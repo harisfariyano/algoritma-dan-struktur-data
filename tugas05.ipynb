{
  "nbformat": 4,
  "nbformat_minor": 0,
  "metadata": {
    "colab": {
      "name": "tugas5.ipynb",
      "provenance": [],
      "collapsed_sections": [],
      "include_colab_link": true
    },
    "kernelspec": {
      "display_name": "Python 3",
      "name": "python3"
    }
  },
  "cells": [
    {
      "cell_type": "markdown",
      "metadata": {
        "id": "view-in-github",
        "colab_type": "text"
      },
      "source": [
        "<a href=\"https://colab.research.google.com/github/harisfariyano/algoritma-dan-struktur-data/blob/main/tugas05.ipynb\" target=\"_parent\"><img src=\"https://colab.research.google.com/assets/colab-badge.svg\" alt=\"Open In Colab\"/></a>"
      ]
    },
    {
      "cell_type": "code",
      "metadata": {
        "id": "1bLVmXeMij2l",
        "outputId": "ee38a372-b800-4168-a337-c11d389e9e24",
        "colab": {
          "base_uri": "https://localhost:8080/",
          "height": 68
        }
      },
      "source": [
        "print('No.1')\n",
        "def a():\n",
        "  print('because i proud to make something new')\n",
        "def b():\n",
        "  print('i like programing')\n",
        "b()\n",
        "a()"
      ],
      "execution_count": null,
      "outputs": [
        {
          "output_type": "stream",
          "text": [
            "No.1\n",
            "i like programing\n",
            "because i proud to make something new\n"
          ],
          "name": "stdout"
        }
      ]
    },
    {
      "cell_type": "code",
      "metadata": {
        "id": "HxwfGGfykk2S",
        "outputId": "5a64a98a-b05e-4c2b-f3a6-947112d504cc",
        "colab": {
          "base_uri": "https://localhost:8080/",
          "height": 102
        }
      },
      "source": [
        "print('No.2')\n",
        "def Perkenalan():\n",
        " nama=input('Nama:')\n",
        " print('nama saya adalah',nama)\n",
        "def luas_kepala(panjang, lebar):\n",
        "  luas=(panjang*lebar) / 2\n",
        "  print('luas_kepala adalah', luas);\n",
        "\n",
        "Perkenalan()\n",
        "luas_kepala(5, 10)\n",
        "luas_kepala(100, 50)\n",
        "\n",
        "\n"
      ],
      "execution_count": 8,
      "outputs": [
        {
          "output_type": "stream",
          "text": [
            "No.2\n",
            "Nama:dora\n",
            "nama saya adalah dora\n",
            "luas_kepala adalah 25.0\n",
            "luas_kepala adalah 2500.0\n"
          ],
          "name": "stdout"
        }
      ]
    },
    {
      "cell_type": "code",
      "metadata": {
        "id": "LYXp9aH7ot9x",
        "outputId": "1863aa73-edf4-4000-8dce-897f403a75e4",
        "colab": {
          "base_uri": "https://localhost:8080/",
          "height": 68
        }
      },
      "source": [
        "print('NO.3')\n",
        "#fungsi return\n",
        "def a(sisi):\n",
        "    luas = sisi * sisi\n",
        "    return luas\n",
        "\n",
        "print('luas persegi', a(6))\n",
        "\n",
        "def volume_kubus(sisi):\n",
        "    volume= a(sisi)*sisi\n",
        "    return volume\n",
        "\n",
        "#pemanggilan fungsi\n",
        "print('luas persegi dengan',a(6))\n",
        "print('volume kubus dengan ',volume_kubus(5))\n"
      ],
      "execution_count": null,
      "outputs": [
        {
          "output_type": "stream",
          "text": [
            "luas persegi 36\n",
            "luas persegi dengan 36\n",
            "volume kubus dengan  125\n"
          ],
          "name": "stdout"
        }
      ]
    },
    {
      "cell_type": "code",
      "metadata": {
        "id": "UtoyaW6Vwdzs",
        "outputId": "97dd9827-fa5c-49e6-a619-9bc8b967953f",
        "colab": {
          "base_uri": "https://localhost:8080/",
          "height": 102
        }
      },
      "source": [
        "print('NO.3')\n",
        "P=int(input('panjang='))\n",
        "L=int(input('lebar='))\n",
        "T=int(input('tinggi='))\n",
        "\n",
        "#rumus:PxL\n",
        "def luas_pip():\n",
        "    luas = P*L\n",
        "    return luas \n",
        "#rumus:PxLxT\n",
        "def volume_balok():\n",
        "    volume = luas_pip()*T\n",
        "    return volume \n",
        "\n",
        "print('luas persegi dawa',luas_pip())\n",
        "print('volume balok',volume_balok())\n"
      ],
      "execution_count": 21,
      "outputs": [
        {
          "output_type": "stream",
          "text": [
            "panjang=12\n",
            "lebar=12\n",
            "tinggi=12\n",
            "luas persegi dawa 144\n",
            "volume balok 1728\n"
          ],
          "name": "stdout"
        }
      ]
    },
    {
      "cell_type": "code",
      "metadata": {
        "id": "0J8qrJts8Tms",
        "outputId": "8d182688-2e65-4fa8-ea38-1d8a4d418daf",
        "colab": {
          "base_uri": "https://localhost:8080/",
          "height": 102
        }
      },
      "source": [
        "print('No.4')\n",
        "A=int(input('Angka1='))\n",
        "B=int(input('Angka2='))\n",
        "def Sama_dengan(A,B):\n",
        "    C=(A==B)\n",
        "    print('Angka1 sama dengan Angka2 :',C)\n",
        "def Lebih_besar(A,B):\n",
        "    D=(A>B)\n",
        "    print('Angka1 lebih besar dari Angka2 :',D)\n",
        "Sama_dengan(A,B)\n",
        "Lebih_besar(A,B)\n"
      ],
      "execution_count": 20,
      "outputs": [
        {
          "output_type": "stream",
          "text": [
            "No.4\n",
            "Angka1=20\n",
            "Angka2=10\n",
            "Angka1 sama dengan Angka2 : False\n",
            "Angka1 lebih besar dari Angka2 : True\n"
          ],
          "name": "stdout"
        }
      ]
    }
  ]
}