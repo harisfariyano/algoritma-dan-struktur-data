{
  "nbformat": 4,
  "nbformat_minor": 0,
  "metadata": {
    "colab": {
      "name": "tugas03.ipynb",
      "provenance": [],
      "collapsed_sections": []
    },
    "kernelspec": {
      "display_name": "Python 3",
      "name": "python3"
    }
  },
  "cells": [
    {
      "cell_type": "code",
      "metadata": {
        "id": "RIzxvD5v8FJ4",
        "outputId": "d3aa696b-fc12-4583-ac72-998983aa4d02",
        "colab": {
          "base_uri": "https://localhost:8080/",
          "height": 34
        }
      },
      "source": [
        "#haris Fariyano\n",
        "r=50\n",
        "phi=3.14\n",
        "keliling=2*phi*r\n",
        "print(keliling)"
      ],
      "execution_count": 1,
      "outputs": [
        {
          "output_type": "stream",
          "text": [
            "314.0\n"
          ],
          "name": "stdout"
        }
      ]
    },
    {
      "cell_type": "code",
      "metadata": {
        "id": "Ojr5FcF48iL8",
        "outputId": "cf585019-f1e8-4645-8c85-a03a75369800",
        "colab": {
          "base_uri": "https://localhost:8080/",
          "height": 85
        }
      },
      "source": [
        "var=40\n",
        "phi=3.14\n",
        "var2=50\n",
        "variable_saya= 'variable milik HARIS'\n",
        "\n",
        "print(var)\n",
        "print(phi)\n",
        "print(var2)\n",
        "print(variable_saya, 'adalah', var2)\n"
      ],
      "execution_count": 5,
      "outputs": [
        {
          "output_type": "stream",
          "text": [
            "40\n",
            "3.14\n",
            "50\n",
            "variable milik HARIS adalah 50\n"
          ],
          "name": "stdout"
        }
      ]
    },
    {
      "cell_type": "code",
      "metadata": {
        "id": "HdROh8J_9rac",
        "outputId": "3e659a1b-b6af-4cff-eb4a-01b7608f4353",
        "colab": {
          "base_uri": "https://localhost:8080/",
          "height": 265
        }
      },
      "source": [
        "var=40\n",
        "phi=3.14\n",
        "var2=50\n",
        "variable_saya= 'variable milik HARIS'\n",
        "\n",
        "print(var)\n",
        "print(phi)\n",
        "print(var2)\n",
        "print(variable_saya, 'adalah', var2)\n",
        "\n",
        "del(var2)\n",
        "print(var2)"
      ],
      "execution_count": 6,
      "outputs": [
        {
          "output_type": "stream",
          "text": [
            "40\n",
            "3.14\n",
            "50\n",
            "variable milik HARIS adalah 50\n"
          ],
          "name": "stdout"
        },
        {
          "output_type": "error",
          "ename": "NameError",
          "evalue": "ignored",
          "traceback": [
            "\u001b[0;31m---------------------------------------------------------------------------\u001b[0m",
            "\u001b[0;31mNameError\u001b[0m                                 Traceback (most recent call last)",
            "\u001b[0;32m<ipython-input-6-b28013fe44d4>\u001b[0m in \u001b[0;36m<module>\u001b[0;34m()\u001b[0m\n\u001b[1;32m     10\u001b[0m \u001b[0;34m\u001b[0m\u001b[0m\n\u001b[1;32m     11\u001b[0m \u001b[0;32mdel\u001b[0m\u001b[0;34m(\u001b[0m\u001b[0mvar2\u001b[0m\u001b[0;34m)\u001b[0m\u001b[0;34m\u001b[0m\u001b[0;34m\u001b[0m\u001b[0m\n\u001b[0;32m---> 12\u001b[0;31m \u001b[0mprint\u001b[0m\u001b[0;34m(\u001b[0m\u001b[0mvar2\u001b[0m\u001b[0;34m)\u001b[0m\u001b[0;34m\u001b[0m\u001b[0;34m\u001b[0m\u001b[0m\n\u001b[0m",
            "\u001b[0;31mNameError\u001b[0m: name 'var2' is not defined"
          ]
        }
      ]
    },
    {
      "cell_type": "code",
      "metadata": {
        "id": "fks3S1cH-W6r",
        "outputId": "7ab2fd4f-6a89-4cb4-fae8-776512498a1a",
        "colab": {
          "base_uri": "https://localhost:8080/",
          "height": 34
        }
      },
      "source": [
        "perbandingan=12>10\n",
        "print(perbandingan)"
      ],
      "execution_count": 7,
      "outputs": [
        {
          "output_type": "stream",
          "text": [
            "True\n"
          ],
          "name": "stdout"
        }
      ]
    },
    {
      "cell_type": "code",
      "metadata": {
        "id": "CsRS019Q-qT6",
        "outputId": "f9103355-112a-4cd7-f36c-3eac3a97bfed",
        "colab": {
          "base_uri": "https://localhost:8080/",
          "height": 68
        }
      },
      "source": [
        "siswa=64\n",
        "print(float(siswa))\n",
        "print(bin(siswa))\n",
        "print(hex(siswa))"
      ],
      "execution_count": 8,
      "outputs": [
        {
          "output_type": "stream",
          "text": [
            "64.0\n",
            "0b1000000\n",
            "0x40\n"
          ],
          "name": "stdout"
        }
      ]
    },
    {
      "cell_type": "code",
      "metadata": {
        "id": "JnisHE_x_UAx",
        "outputId": "edf5ef78-c33e-47a7-be19-d3f92f6b4b38",
        "colab": {
          "base_uri": "https://localhost:8080/",
          "height": 282
        }
      },
      "source": [
        "judul='biodata singkat saya'\n",
        "nama='Haris Fariyano'\n",
        "nim='20090023'\n",
        "semester=5\n",
        "IPK=3.95\n",
        "print(judul)\n",
        "print(nama)\n",
        "print(nim)\n",
        "print(\"\"\"\n",
        "saya mahasiswa semester\"\"\",semester,\"yang berprestasi,karena memiliki IPK besar\",IPK )\n",
        "\n",
        "del(IPK)\n",
        "prtint(IPK)"
      ],
      "execution_count": 9,
      "outputs": [
        {
          "output_type": "stream",
          "text": [
            "biodata singkat saya\n",
            "Haris Fariyano\n",
            "20090023\n",
            "\n",
            "saya mahasiswa semester 5 yang berprestasi,karena memiliki IPK besar 3.95\n"
          ],
          "name": "stdout"
        },
        {
          "output_type": "error",
          "ename": "NameError",
          "evalue": "ignored",
          "traceback": [
            "\u001b[0;31m---------------------------------------------------------------------------\u001b[0m",
            "\u001b[0;31mNameError\u001b[0m                                 Traceback (most recent call last)",
            "\u001b[0;32m<ipython-input-9-9b91179161e9>\u001b[0m in \u001b[0;36m<module>\u001b[0;34m()\u001b[0m\n\u001b[1;32m     11\u001b[0m \u001b[0;34m\u001b[0m\u001b[0m\n\u001b[1;32m     12\u001b[0m \u001b[0;32mdel\u001b[0m\u001b[0;34m(\u001b[0m\u001b[0mIPK\u001b[0m\u001b[0;34m)\u001b[0m\u001b[0;34m\u001b[0m\u001b[0;34m\u001b[0m\u001b[0m\n\u001b[0;32m---> 13\u001b[0;31m \u001b[0mprtint\u001b[0m\u001b[0;34m(\u001b[0m\u001b[0mIPK\u001b[0m\u001b[0;34m)\u001b[0m\u001b[0;34m\u001b[0m\u001b[0;34m\u001b[0m\u001b[0m\n\u001b[0m",
            "\u001b[0;31mNameError\u001b[0m: name 'prtint' is not defined"
          ]
        }
      ]
    }
  ]
}